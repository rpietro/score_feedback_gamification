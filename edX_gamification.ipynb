{
 "metadata": {
  "name": "",
  "signature": "sha256:0ba60cc61ff0798f44c39e24d876ad035d21849b083b323a66ceab74a8e0e6fa"
 },
 "nbformat": 3,
 "nbformat_minor": 0,
 "worksheets": [
  {
   "cells": [
    {
     "cell_type": "markdown",
     "metadata": {},
     "source": [
      "# Use case \"invisible friends\" gamification\n",
      "\n",
      "The objective of this app is to create a mechanism within the Open edX platform to (1) provide graphical feedback to learners regarding their most recent exercise scores and (2) gamify their experience by comparing those scores with those from anonymous friends and/or benchmarks.\n",
      "\n",
      "## Informal use case - learner as the actor\n",
      "\n",
      "1. Learner answers a number of regular items (exercises) on the Open edX platform\n",
      "2. Score for that specific item cluster is calculated and displayed on a separate Unit (a Unit is the third, lowest level of the course hierarchy under Open edX)\n",
      "3. Learner compares her scores against the benchmark\n",
      "\n",
      "Future Agile cycles could include a way for learners to interact and discuss their scores, with reward and other gamification mechanisms\n",
      "\n",
      "## Informal use case - instructor/educational researcher as the actor\n",
      "\n",
      "1. Istructor/researcher creates a section, subsection and then a unit\n",
      "2. Clicks on advanced and selects \"feedback\"\n",
      "3. Selects which items will be part of the feedback graphic\n",
      "4. Writes the formula to calculate the score\n",
      "5. Selects a graphical display\n",
      "6. Selects which benchmark will be used as a comparison against the learner scores\n",
      "\n",
      "## Technical notes\n",
      "\n",
      "App would likely be created through an xblock\n",
      "\n",
      "# Gamification artifacts\n",
      "\n",
      "## Exercise (item) example\n",
      "\n",
      "Paciente de 33 anos, casada, professora, reporta que se sente deprimida na maior parte do dia, quase todos os dias, que n\u00e3o se interessa por coisas do dia-a-dia como costumava fazer no passado. Ganhou 3 quilos no \u00faltimo m\u00eas (peso anterior de 56 quilos). Tamb\u00e9m refere ter dificuldade para dormir \u00e0 noite. Diz estar desesperada porque sua vida \u00e9 insuport\u00e1vel e isso tem afetado em muito a sua rela\u00e7\u00e3o com a sua fam\u00edlia. Ela n\u00e3o faz uso de quaisquer subst\u00e2ncias e n\u00e3o tem hist\u00f3ria pregressa de epis\u00f3dios de mania.\n",
      "\n",
      "Voc\u00ea estabelece um diagn\u00f3stico de depress\u00e3o maior j\u00e1 que ela n\u00e3o apresenta quaisquer outros sintomas que levariam a pensar em outra doen\u00e7a psiqui\u00e1trica.\n",
      "\n",
      "Voc\u00ea inicia um tratamento psicoter\u00e1pico isolado como terapia inicial, mas depois de dois meses a paciente refere que gostaria de usar medi\u00e7ac\u00f5es j\u00e1 que uma de suas amigas a utilizou e melhorou rapidamente. Durante a conversa ela se mostra um tanto infantil, tentando impor a sua vontade. Em tal situa\u00e7\u00e3o diretrizes internacionais recomendam todas as alternativas abaixo, exceto:\n",
      "\n",
      "( ) Ao estabelecer e manter uma alian\u00e7a terap\u00eautica com a paciente, \u00e9 importante colaborar com ela na tomada de decis\u00f5es e atender \u00e0s prefer\u00eancias e preocupa\u00e7\u00f5es que ela tenha sobre o seu tratamento  \n",
      "( ) A gest\u00e3o da alian\u00e7a terap\u00eautica deve incluir a aten\u00e7\u00e3o a quest\u00f5es de transfer\u00eancia e contra-transfer\u00eancia, mesmo que estes n\u00e3o s\u00e3o directamente abordadas no tratamento  \n",
      "( ) Problemas graves ou persistentes de m\u00e1 alian\u00e7a terap\u00eautica ou n\u00e3o-ades\u00e3o ao tratamento podem ser causados pelos pr\u00f3prios sintomas depressivos ou podem representar conflitos psicol\u00f3gicos ou psicopatologia, os quais podem ser abordados atrav\u00e9s da psicoterapia.  \n",
      "(x) Especialmente nas fases iniciais, \u00e9 importante que o profissional de diretrizes ao paciente j\u00e1 que ele n\u00e3o est\u00e1 em condi\u00e7\u00f5es de tomar decis\u00f5es por si s\u00f3  \n",
      "\n",
      "[explanation]  \n",
      "Existe um grau alto de evid\u00eancia em Diretrizes Internacionais em suporte ao seguinte fato: Ao estabelecer e manter uma alian\u00e7a terap\u00eautica com a paciente, \u00e9 importante colaborar com ela na tomada de decis\u00f5es e atender \u00e0s prefer\u00eancias e preocupa\u00e7\u00f5es que ela tenha sobre o seu tratamento\n",
      "\n",
      "Existe um grau moderado de evid\u00eancia em Diretrizes Internacionais em suporte ao seguinte fato: A gest\u00e3o da alian\u00e7a terap\u00eautica deve incluir a aten\u00e7\u00e3o a quest\u00f5es de transfer\u00eancia e contra-transfer\u00eancia, mesmo que estes n\u00e3o s\u00e3o directamente abordadas no tratamento\n",
      "\n",
      "Existe um grau moderado de evid\u00eancia em Diretrizes Internacionais em suporte ao seguinte fato: Problemas graves ou persistentes de m\u00e1 alian\u00e7a terap\u00eautica ou n\u00e3o-ades\u00e3o ao tratamento podem ser causados pelos pr\u00f3prios sintomas depressivos ou podem representar conflitos psicol\u00f3gicos ou psicopatologia, os quais podem ser abordados atrav\u00e9s da psicoterapia.  \n",
      "[explanation]\n",
      "\n",
      "\n",
      "In the exercise above the corresponding variable in MySQL would have a value of 1 if the student were to respond correctly (Especialmente nas fases iniciais, \u00e9 importante que o profissional de diretrizes ao paciente j\u00e1 que ele n\u00e3o est\u00e1 em condi\u00e7\u00f5es de tomar decis\u00f5es por si s\u00f3) and 0 otherwise. \n",
      "\n",
      "## Dataset example\n",
      "\n",
      "If multiple items like the one above were to be included in a data frame, the dataset would look like the following:"
     ]
    },
    {
     "cell_type": "code",
     "collapsed": false,
     "input": [
      "dataset = { 'item1': [1, 0, 0, 0, 0, 1, 1],\n",
      "            'item2': [0, 0, 0, 0, 0, 0, 1],\n",
      "            'item3': [1, 1, 1, 0, 0, 0, 1],\n",
      "            'item4': [1, 1, 1, 1, 1, 1, 1]\n",
      "}"
     ],
     "language": "python",
     "metadata": {},
     "outputs": [],
     "prompt_number": 1
    },
    {
     "cell_type": "markdown",
     "metadata": {},
     "source": [
      "## Ploting"
     ]
    },
    {
     "cell_type": "markdown",
     "metadata": {},
     "source": [
      "Ideally we would have an image that talks about the grade of the student on a 0-100 scale, also pointing to where exactly that grade is in relation to all other people taking the course or some other benchmark like a national average. Below is an example of what that picture would look like:"
     ]
    },
    {
     "cell_type": "markdown",
     "metadata": {},
     "source": [
      "![](gamification.png)"
     ]
    }
   ],
   "metadata": {}
  }
 ]
}